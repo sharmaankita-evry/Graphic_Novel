{
  "cells": [
    {
      "cell_type": "code",
      "execution_count": 4,
      "metadata": {
        "id": "Hu3QGG-noCOr"
      },
      "outputs": [],
      "source": [
        "characters = [\n",
        "    \"The Shoemaker\",\n",
        "    \"The Elves\"\n",
        "]\n",
        "\n",
        "magical_elements = [\n",
        "    \"The Benevolent Elves\",\n",
        "    \"Magical Transformation\",\n",
        "    \"Mysterious and Secretive Assistance\",\n",
        "    \"Symbolic Repayment\"\n",
        "]\n",
        "settings = [\n",
        "    \"The Shoemaker's Workshop\",\n",
        "    \"The Shoemaker's Humble Home\",\n",
        "    \"The Forest or Woods\",\n",
        "    \"The Marketplace\"\n",
        "]\n",
        "events_situations = [\n",
        "    \"The Poor Shoemaker\",\n",
        "    \"The Kind Gesture\",\n",
        "    \"Magical Assistance\",\n",
        "    \"Joy and Gratitude:\",\n",
        "    \"Repeat of the Miracle:\"\n",
        "]\n",
        "themes = [\n",
        "    \"Generosity and Kindness\",\n",
        "    \"Reciprocity\",\n",
        "    \"The Unexpected\",\n",
        "    \"Transformation\",\n",
        "    \"Gratitude\"\n",
        "]\n",
        "emotions = [\n",
        "    \"Hope\",\n",
        "    \"Amazement\",\n",
        "    \"Gratitude\",\n",
        "    \"Joy\",\n",
        "    \"Fulfillment\",\n",
        "    \"Wonder\"\n",
        "]\n",
        "conflict = [\n",
        "    \"Financial Hardship\"\n",
        "]\n",
        "wizarding_world_locations = [\n",
        "    \"a small village or town\",\n",
        "    \"the shoemaker's workshop\",\n",
        "    \"home\"\n",
        "]\n",
        "\n",
        "lights = ['hope','Moonlight', 'Firelight', 'Misty', 'Torchlight', 'Strobe', 'Gloomy']\n",
        "colors = ['Red Apple Color', 'Black And White', 'Deep', 'Autumnal Colors', 'Nectarine Color', 'Cool Blues', 'Blueberry Color', 'Endive Color', 'Kiwi Color', 'Turnip Color', 'Subtle', 'Raspberry Color', 'Primary Colors', 'Sun-Kissed', 'Pale', 'Potato Color', 'Metallic', 'Yellow Apple Color', 'Broccoli Color', 'Desaturated', 'Yellow Squash Color', 'Warm', 'Purple Potato Color', 'Persimmon Color', 'Carrot Color', 'Playful', 'Pop Of Color', 'Harmonious', 'Yellow Tomato Color', 'Bell Pepper Color', 'Rhubarb Color', 'Lemon Color', 'Soothing', 'Jewel Tones', 'Thyme Color', 'Eggplant Color', 'Garlic Color', 'Watermelon Color', 'Yellow Bell Pepper Color', 'Apricot Color', 'Elegant', 'Lime Color', 'Papaya Color', 'Dramatic', 'Purple Carrot Color', 'Bold', 'Faded', 'Contrasting', 'Tangerine Color', 'Rosemary Color', 'Gradient', 'Variegated', 'Chili Pepper Color', 'Parsley Color', 'Pastel Pinks', 'Pepper Color', 'Green Pea Color', 'Honeydew Melon Color', 'Cucumber Color', 'Turmeric Color', 'Neon', 'Saturated', 'Lavender Color', 'Whimsical', 'Mango Color', 'Sweet Potato Color', 'Translucent', 'Orange Color', 'Butternut Squash Color', 'Passion Fruit Color', 'Warm Yellows', 'Toned', 'Rich', 'Sage Color', 'Crisp', 'Secondary Colors', 'Plum Color', 'Jalapeno Pepper Color', 'Earth Tones', 'Tomato Color', 'Red Onion Color', 'Vivid Greens', 'Radish Color', 'Monochromatic', 'Tinted', 'Vibrant', 'Glowing', 'Peach Color', 'Cantaloupe Color', 'Okra Color', 'Grape Color', 'Acai Color', 'Popsicle Colors', 'Strawberry Color', 'Mint Color', 'Zucchini Color', 'Grapefruit Color', 'Colorful', 'Clementine Color', 'Soothing Purples', 'Spinach Color', 'Guava Color', 'Ginger Color', 'Pear Color', 'Kale Color', 'Transitional', 'Pineapple Color', 'Green Bean Color', 'Purple Cabbage Color', 'Muted', 'Glossy', 'Cranberry Color', 'Complementary', 'Shades Of Gray', 'Green Apple Color', 'Bright', 'Blackberry Color', 'Fig Color', 'Beet Color', 'Cherry Color', 'Earthy Browns', 'Pastel', 'Pumpkin Color', 'Pearlescent', 'Red Cabbage Color', 'Pomegranate Color', 'Arugula Color', 'Opaque', 'Multicolored', 'Matte', 'Red Pepper Color', 'Dusky Oranges']\n",
        "\n",
        "mj_prompts = [\n",
        "    \"The elves' motivations remain enigmatic, yet their actions unequivocally reveal a nature characterized by benevolence and selflessness \",\n",
        "    \"The elves' enigmatic presence infuses the narrative with an irresistible sense of mystery and enchantment \",\n",
        "    \"Though the elves' character development remains subtle, their choice to assist the shoemaker and their joyful response to the clothes made for them suggest a deeper, evolving nature that is influenced by their interactions with the human world \"\n",
        "\n",
        "]\n",
        "\n"
      ]
    },
    {
      "cell_type": "code",
      "execution_count": 5,
      "metadata": {
        "id": "547Z3_Jk0kdU"
      },
      "outputs": [],
      "source": [
        "mj_parameters = [\n",
        "\"--v 5\",\n",
        "\"--v 5\"]"
      ]
    },
    {
      "cell_type": "code",
      "execution_count": 6,
      "metadata": {
        "id": "UUuSdlb30qmY"
      },
      "outputs": [],
      "source": [
        "import random\n",
        "\n",
        "\n",
        "def generate_the_elves_and_shoemaker_prompt(characters, magical_elements,settings, events_situations, themes, emotions, conflict,wizarding_world_locations,\n",
        "                                 lights, colors, mj_prompts, mj_parameters):\n",
        "    text = []\n",
        "\n",
        "    # Step 0: Characters\n",
        "    characters = random.choice(characters)\n",
        "    text.append(characters)\n",
        "\n",
        "    # Step 2: magical_elements\n",
        "    magical_elements = random.choice(magical_elements)\n",
        "    text.append(magical_elements)\n",
        "\n",
        "    # Step 3: hogwarts_houses\n",
        "    settings = random.choice(settings)\n",
        "    text.append(settings)\n",
        "\n",
        "\n",
        "    # Step 4: events_situations\n",
        "    events_situations = random.choice(events_situations)\n",
        "    text.append(events_situations)\n",
        "\n",
        "\n",
        "\n",
        "    # Step 5: themes\n",
        "    themes = random.choice(themes)\n",
        "    text.append(themes)\n",
        "\n",
        "\n",
        "    # Step 6: emotions\n",
        "    emotions = random.choice(emotions)\n",
        "    text.append(emotions)\n",
        "\n",
        "    # Step 7: conflict\n",
        "    conflict = random.choice(conflict)\n",
        "    text.append(conflict)\n",
        "\n",
        "\n",
        "    # Step 1: wizarding_world_locations\n",
        "    wizarding_world_locations = random.choice(wizarding_world_locations)\n",
        "    text.append(wizarding_world_locations)\n",
        "\n",
        "\n",
        "     # Step 17: Lighting\n",
        "    if random.random() < 0.5:\n",
        "        lighting = random.choice(lights)\n",
        "        text.append(lighting)\n",
        "\n",
        "    # Step 18: Color\n",
        "    num_colors = random.randint(0, 5)\n",
        "    colors = random.sample(colors, num_colors)\n",
        "    text.extend(colors)\n",
        "\n",
        "\n",
        "    # Step 21: MJ_prompt\n",
        "    if random.random() < 0.5:\n",
        "        mj_prompt = random.choice(mj_prompts)\n",
        "        text.append(mj_prompt)\n",
        "\n",
        "    # Step 22: Parameters\n",
        "    num_parameters = random.randint(0, 2)\n",
        "    parameters = random.sample(mj_parameters, num_parameters)\n",
        "    text.extend(parameters)\n",
        "\n",
        "    return 'aO1, The elves and shoemaker, Focus on ' + ', '.join(text)\n"
      ]
    },
    {
      "cell_type": "code",
      "execution_count": 7,
      "metadata": {
        "colab": {
          "base_uri": "https://localhost:8080/"
        },
        "id": "PbIlCRqs1M4f",
        "outputId": "060126e9-a2a2-4b5d-a7b5-d65ba3ebd75f"
      },
      "outputs": [
        {
          "name": "stdout",
          "output_type": "stream",
          "text": [
            "bO1, The elves and shoemaker, Focus on The Elves, Magical Transformation, The Shoemaker's Humble Home, Joy and Gratitude:, Transformation, Gratitude, Financial Hardship, home, Moonlight, Red Pepper Color, Arugula Color, --v 5, --v 5\n",
            "bO1, The elves and shoemaker, Focus on The Elves, Symbolic Repayment, The Shoemaker's Humble Home, The Kind Gesture, Generosity and Kindness, Gratitude, Financial Hardship, the shoemaker's workshop, Papaya Color, Bright, --v 5, --v 5\n",
            "bO1, The elves and shoemaker, Focus on The Elves, Mysterious and Secretive Assistance, The Forest or Woods, The Poor Shoemaker, Gratitude, Hope, Financial Hardship, the shoemaker's workshop, Lime Color, Persimmon Color, Autumnal Colors, Broccoli Color\n",
            "bO1, The elves and shoemaker, Focus on The Shoemaker, Symbolic Repayment, The Marketplace, Repeat of the Miracle:, The Unexpected, Fulfillment, Financial Hardship, home, Turmeric Color, Gradient, Tinted, Pale\n",
            "bO1, The elves and shoemaker, Focus on The Elves, Magical Transformation, The Marketplace, The Poor Shoemaker, Transformation, Joy, Financial Hardship, a small village or town, hope, Guava Color, Endive Color, Though the elves' character development remains subtle, their choice to assist the shoemaker and their joyful response to the clothes made for them suggest a deeper, evolving nature that is influenced by their interactions with the human world \n",
            "bO1, The elves and shoemaker, Focus on The Elves, The Benevolent Elves, The Forest or Woods, The Poor Shoemaker, Transformation, Wonder, Financial Hardship, the shoemaker's workshop, Vibrant, Purple Cabbage Color, Primary Colors, The elves' enigmatic presence infuses the narrative with an irresistible sense of mystery and enchantment \n",
            "bO1, The elves and shoemaker, Focus on The Shoemaker, The Benevolent Elves, The Marketplace, The Poor Shoemaker, Generosity and Kindness, Gratitude, Financial Hardship, a small village or town, The elves' motivations remain enigmatic, yet their actions unequivocally reveal a nature characterized by benevolence and selflessness , --v 5\n",
            "bO1, The elves and shoemaker, Focus on The Elves, The Benevolent Elves, The Marketplace, The Kind Gesture, The Unexpected, Fulfillment, Financial Hardship, the shoemaker's workshop, Grapefruit Color, Black And White, Earth Tones, Though the elves' character development remains subtle, their choice to assist the shoemaker and their joyful response to the clothes made for them suggest a deeper, evolving nature that is influenced by their interactions with the human world , --v 5\n",
            "bO1, The elves and shoemaker, Focus on The Elves, The Benevolent Elves, The Forest or Woods, Joy and Gratitude:, Generosity and Kindness, Amazement, Financial Hardship, the shoemaker's workshop, Pop Of Color, Yellow Apple Color, Complementary, Though the elves' character development remains subtle, their choice to assist the shoemaker and their joyful response to the clothes made for them suggest a deeper, evolving nature that is influenced by their interactions with the human world , --v 5\n",
            "bO1, The elves and shoemaker, Focus on The Shoemaker, Mysterious and Secretive Assistance, The Marketplace, Joy and Gratitude:, Gratitude, Fulfillment, Financial Hardship, home, Vibrant, --v 5\n",
            "bO1, The elves and shoemaker, Focus on The Shoemaker, Symbolic Repayment, The Shoemaker's Workshop, Magical Assistance, Transformation, Gratitude, Financial Hardship, home, Torchlight, Though the elves' character development remains subtle, their choice to assist the shoemaker and their joyful response to the clothes made for them suggest a deeper, evolving nature that is influenced by their interactions with the human world \n",
            "bO1, The elves and shoemaker, Focus on The Shoemaker, Symbolic Repayment, The Marketplace, The Poor Shoemaker, Reciprocity, Fulfillment, Financial Hardship, a small village or town, Harmonious, Chili Pepper Color, Red Apple Color, Green Bean Color, Soothing, The elves' motivations remain enigmatic, yet their actions unequivocally reveal a nature characterized by benevolence and selflessness , --v 5\n",
            "bO1, The elves and shoemaker, Focus on The Shoemaker, The Benevolent Elves, The Shoemaker's Workshop, Magical Assistance, Transformation, Wonder, Financial Hardship, a small village or town, Misty, Pale, Glossy, Harmonious, Jewel Tones, Parsley Color, Though the elves' character development remains subtle, their choice to assist the shoemaker and their joyful response to the clothes made for them suggest a deeper, evolving nature that is influenced by their interactions with the human world , --v 5\n",
            "bO1, The elves and shoemaker, Focus on The Elves, Symbolic Repayment, The Forest or Woods, The Kind Gesture, The Unexpected, Hope, Financial Hardship, the shoemaker's workshop, Vivid Greens, Warm Yellows, The elves' enigmatic presence infuses the narrative with an irresistible sense of mystery and enchantment , --v 5, --v 5\n",
            "bO1, The elves and shoemaker, Focus on The Elves, Magical Transformation, The Shoemaker's Workshop, Repeat of the Miracle:, The Unexpected, Wonder, Financial Hardship, the shoemaker's workshop, Warm Yellows\n",
            "bO1, The elves and shoemaker, Focus on The Shoemaker, Mysterious and Secretive Assistance, The Shoemaker's Workshop, The Poor Shoemaker, The Unexpected, Joy, Financial Hardship, home, Misty, Glowing, Black And White, Muted, The elves' motivations remain enigmatic, yet their actions unequivocally reveal a nature characterized by benevolence and selflessness , --v 5, --v 5\n",
            "bO1, The elves and shoemaker, Focus on The Shoemaker, Mysterious and Secretive Assistance, The Shoemaker's Humble Home, Magical Assistance, Gratitude, Joy, Financial Hardship, the shoemaker's workshop, Watermelon Color, Grapefruit Color, Pastel, Translucent, Sweet Potato Color, --v 5, --v 5\n",
            "bO1, The elves and shoemaker, Focus on The Elves, Mysterious and Secretive Assistance, The Shoemaker's Workshop, The Kind Gesture, Transformation, Amazement, Financial Hardship, the shoemaker's workshop, Red Onion Color\n",
            "bO1, The elves and shoemaker, Focus on The Shoemaker, Mysterious and Secretive Assistance, The Forest or Woods, Magical Assistance, Reciprocity, Amazement, Financial Hardship, a small village or town, Strobe, The elves' motivations remain enigmatic, yet their actions unequivocally reveal a nature characterized by benevolence and selflessness \n",
            "bO1, The elves and shoemaker, Focus on The Elves, Symbolic Repayment, The Shoemaker's Workshop, Magical Assistance, Reciprocity, Amazement, Financial Hardship, a small village or town, Pale, Endive Color, Pear Color, Red Cabbage Color, Though the elves' character development remains subtle, their choice to assist the shoemaker and their joyful response to the clothes made for them suggest a deeper, evolving nature that is influenced by their interactions with the human world , --v 5\n",
            "bO1, The elves and shoemaker, Focus on The Elves, The Benevolent Elves, The Marketplace, The Poor Shoemaker, Reciprocity, Wonder, Financial Hardship, the shoemaker's workshop, Crisp, Transitional, Bright\n",
            "bO1, The elves and shoemaker, Focus on The Shoemaker, Mysterious and Secretive Assistance, The Forest or Woods, Magical Assistance, Transformation, Joy, Financial Hardship, the shoemaker's workshop, hope, Translucent, Opaque, Warm Yellows, The elves' motivations remain enigmatic, yet their actions unequivocally reveal a nature characterized by benevolence and selflessness \n",
            "bO1, The elves and shoemaker, Focus on The Shoemaker, Mysterious and Secretive Assistance, The Shoemaker's Workshop, Repeat of the Miracle:, Transformation, Amazement, Financial Hardship, the shoemaker's workshop, Moonlight, Autumnal Colors, Guava Color, Kale Color, The elves' motivations remain enigmatic, yet their actions unequivocally reveal a nature characterized by benevolence and selflessness , --v 5\n",
            "bO1, The elves and shoemaker, Focus on The Shoemaker, The Benevolent Elves, The Forest or Woods, Repeat of the Miracle:, Generosity and Kindness, Joy, Financial Hardship, home, Toned\n",
            "bO1, The elves and shoemaker, Focus on The Shoemaker, Mysterious and Secretive Assistance, The Forest or Woods, Repeat of the Miracle:, Generosity and Kindness, Hope, Financial Hardship, the shoemaker's workshop, Strobe, Radish Color, Saturated, Rhubarb Color, Guava Color, --v 5, --v 5\n",
            "bO1, The elves and shoemaker, Focus on The Elves, Magical Transformation, The Shoemaker's Workshop, Joy and Gratitude:, Transformation, Gratitude, Financial Hardship, home, Clementine Color, Translucent, Tomato Color, Contrasting, --v 5, --v 5\n",
            "bO1, The elves and shoemaker, Focus on The Shoemaker, Symbolic Repayment, The Shoemaker's Workshop, The Kind Gesture, Gratitude, Fulfillment, Financial Hardship, a small village or town, hope, Red Onion Color, Though the elves' character development remains subtle, their choice to assist the shoemaker and their joyful response to the clothes made for them suggest a deeper, evolving nature that is influenced by their interactions with the human world , --v 5, --v 5\n",
            "bO1, The elves and shoemaker, Focus on The Elves, Symbolic Repayment, The Marketplace, The Poor Shoemaker, The Unexpected, Fulfillment, Financial Hardship, the shoemaker's workshop, Whimsical, Eggplant Color, The elves' enigmatic presence infuses the narrative with an irresistible sense of mystery and enchantment , --v 5\n",
            "bO1, The elves and shoemaker, Focus on The Shoemaker, Magical Transformation, The Forest or Woods, The Poor Shoemaker, Generosity and Kindness, Joy, Financial Hardship, home, Torchlight, Cucumber Color, Nectarine Color, Guava Color, --v 5\n",
            "bO1, The elves and shoemaker, Focus on The Elves, The Benevolent Elves, The Shoemaker's Workshop, The Kind Gesture, The Unexpected, Gratitude, Financial Hardship, a small village or town, Firelight, Blueberry Color, Guava Color, --v 5\n",
            "bO1, The elves and shoemaker, Focus on The Shoemaker, The Benevolent Elves, The Forest or Woods, Joy and Gratitude:, Reciprocity, Fulfillment, Financial Hardship, the shoemaker's workshop, Orange Color, Clementine Color, The elves' motivations remain enigmatic, yet their actions unequivocally reveal a nature characterized by benevolence and selflessness , --v 5, --v 5\n",
            "bO1, The elves and shoemaker, Focus on The Shoemaker, The Benevolent Elves, The Marketplace, Magical Assistance, Transformation, Hope, Financial Hardship, a small village or town, Firelight, Pastel Pinks, Crisp, --v 5\n",
            "bO1, The elves and shoemaker, Focus on The Shoemaker, Symbolic Repayment, The Shoemaker's Humble Home, Repeat of the Miracle:, Reciprocity, Fulfillment, Financial Hardship, home, Kale Color, The elves' enigmatic presence infuses the narrative with an irresistible sense of mystery and enchantment , --v 5\n",
            "bO1, The elves and shoemaker, Focus on The Elves, The Benevolent Elves, The Shoemaker's Workshop, Magical Assistance, Gratitude, Wonder, Financial Hardship, a small village or town, Strobe, Jewel Tones, Purple Carrot Color, Purple Cabbage Color, Peach Color, Soothing\n",
            "bO1, The elves and shoemaker, Focus on The Shoemaker, Mysterious and Secretive Assistance, The Shoemaker's Workshop, Joy and Gratitude:, Transformation, Fulfillment, Financial Hardship, a small village or town, Faded, Eggplant Color, Thyme Color\n",
            "bO1, The elves and shoemaker, Focus on The Elves, Symbolic Repayment, The Marketplace, The Poor Shoemaker, Gratitude, Fulfillment, Financial Hardship, the shoemaker's workshop, Torchlight, Cucumber Color, Pumpkin Color, Though the elves' character development remains subtle, their choice to assist the shoemaker and their joyful response to the clothes made for them suggest a deeper, evolving nature that is influenced by their interactions with the human world , --v 5\n",
            "bO1, The elves and shoemaker, Focus on The Shoemaker, The Benevolent Elves, The Shoemaker's Workshop, The Kind Gesture, Transformation, Gratitude, Financial Hardship, a small village or town, Turmeric Color, Blackberry Color, Gradient, Rhubarb Color, The elves' motivations remain enigmatic, yet their actions unequivocally reveal a nature characterized by benevolence and selflessness , --v 5\n",
            "bO1, The elves and shoemaker, Focus on The Elves, Magical Transformation, The Shoemaker's Workshop, Joy and Gratitude:, Reciprocity, Hope, Financial Hardship, a small village or town, Strobe, Cantaloupe Color, --v 5\n",
            "bO1, The elves and shoemaker, Focus on The Elves, Magical Transformation, The Shoemaker's Humble Home, Magical Assistance, Transformation, Joy, Financial Hardship, the shoemaker's workshop, Strobe, Endive Color, Dramatic, Mint Color, Popsicle Colors, Shades Of Gray, Though the elves' character development remains subtle, their choice to assist the shoemaker and their joyful response to the clothes made for them suggest a deeper, evolving nature that is influenced by their interactions with the human world , --v 5\n",
            "bO1, The elves and shoemaker, Focus on The Elves, Mysterious and Secretive Assistance, The Shoemaker's Workshop, The Kind Gesture, Gratitude, Amazement, Financial Hardship, a small village or town, Gloomy, --v 5\n",
            "bO1, The elves and shoemaker, Focus on The Shoemaker, The Benevolent Elves, The Marketplace, Joy and Gratitude:, Reciprocity, Amazement, Financial Hardship, home\n",
            "bO1, The elves and shoemaker, Focus on The Shoemaker, Symbolic Repayment, The Forest or Woods, The Poor Shoemaker, Transformation, Fulfillment, Financial Hardship, home, hope, Pastel Pinks, Purple Carrot Color\n",
            "bO1, The elves and shoemaker, Focus on The Elves, Mysterious and Secretive Assistance, The Marketplace, Repeat of the Miracle:, Gratitude, Joy, Financial Hardship, home, Misty, Neon, Cool Blues, Kiwi Color, Papaya Color, Earthy Browns\n",
            "bO1, The elves and shoemaker, Focus on The Elves, The Benevolent Elves, The Shoemaker's Humble Home, Joy and Gratitude:, Generosity and Kindness, Gratitude, Financial Hardship, a small village or town, Whimsical, Rich, Pepper Color, Toned, Though the elves' character development remains subtle, their choice to assist the shoemaker and their joyful response to the clothes made for them suggest a deeper, evolving nature that is influenced by their interactions with the human world , --v 5\n",
            "bO1, The elves and shoemaker, Focus on The Elves, The Benevolent Elves, The Marketplace, The Poor Shoemaker, Generosity and Kindness, Fulfillment, Financial Hardship, the shoemaker's workshop, Moonlight, Black And White, Grape Color, Jalapeno Pepper Color, Dusky Oranges, The elves' motivations remain enigmatic, yet their actions unequivocally reveal a nature characterized by benevolence and selflessness , --v 5, --v 5\n",
            "bO1, The elves and shoemaker, Focus on The Shoemaker, Mysterious and Secretive Assistance, The Forest or Woods, The Poor Shoemaker, Gratitude, Amazement, Financial Hardship, the shoemaker's workshop, Purple Carrot Color, Persimmon Color, Yellow Bell Pepper Color, Yellow Squash Color\n",
            "bO1, The elves and shoemaker, Focus on The Elves, Symbolic Repayment, The Shoemaker's Workshop, Repeat of the Miracle:, The Unexpected, Fulfillment, Financial Hardship, home, Opaque, Sun-Kissed, Cucumber Color, Pumpkin Color\n",
            "bO1, The elves and shoemaker, Focus on The Shoemaker, Symbolic Repayment, The Shoemaker's Humble Home, The Kind Gesture, The Unexpected, Wonder, Financial Hardship, the shoemaker's workshop, Gloomy, Sage Color, The elves' motivations remain enigmatic, yet their actions unequivocally reveal a nature characterized by benevolence and selflessness \n",
            "bO1, The elves and shoemaker, Focus on The Shoemaker, Magical Transformation, The Shoemaker's Workshop, Magical Assistance, The Unexpected, Joy, Financial Hardship, home, Translucent, Raspberry Color, Beet Color, Though the elves' character development remains subtle, their choice to assist the shoemaker and their joyful response to the clothes made for them suggest a deeper, evolving nature that is influenced by their interactions with the human world \n",
            "bO1, The elves and shoemaker, Focus on The Shoemaker, Symbolic Repayment, The Shoemaker's Workshop, Joy and Gratitude:, The Unexpected, Amazement, Financial Hardship, a small village or town, Pomegranate Color, Contrasting, Broccoli Color, Guava Color, Orange Color\n"
          ]
        }
      ],
      "source": [
        "output = []\n",
        "\n",
        "output.clear()\n",
        "n = 50\n",
        "\n",
        "\n",
        "for i in range(n):\n",
        "    prompt = generate_the_elves_and_shoemaker_prompt(characters, magical_elements,settings, events_situations, themes, emotions, conflict,wizarding_world_locations,\n",
        "                                 lights, colors, mj_prompts, mj_parameters)\n",
        "    output.append(prompt)\n",
        "\n",
        "for i in output:\n",
        "  print(i)"
      ]
    },
    {
      "cell_type": "code",
      "execution_count": 10,
      "metadata": {
        "id": "ckVtLwJr2ahQ"
      },
      "outputs": [],
      "source": [
        "import string\n",
        "\n",
        "def alpha_numeric(n):\n",
        "    non_ascii_letters = ''.join([char for char in string.printable if char not in string.ascii_letters and ord(char) < 128 and char.isprintable()])\n",
        "    alpha_numeric = string.ascii_letters + string.digits\n",
        "    result = ''\n",
        "    while len(result) < n:\n",
        "        result += random.choice(alpha_numeric)\n",
        "    result += str(random.randint(0, 9))\n",
        "    return result"
      ]
    },
    {
      "cell_type": "code",
      "execution_count": 21,
      "metadata": {
        "colab": {
          "base_uri": "https://localhost:8080/",
          "height": 35
        },
        "id": "YkDf_hX62dFT",
        "outputId": "b1092bc2-4334-4d2e-9143-dcf8506c4ff1"
      },
      "outputs": [
        {
          "data": {
            "application/vnd.google.colaboratory.intrinsic+json": {
              "type": "string"
            },
            "text/plain": [
              "'RQLwEGDmM8'"
            ]
          },
          "execution_count": 21,
          "metadata": {},
          "output_type": "execute_result"
        }
      ],
      "source": [
        "alpha_numeric(9)"
      ]
    }
  ],
  "metadata": {
    "colab": {
      "provenance": []
    },
    "kernelspec": {
      "display_name": "Python 3",
      "name": "python3"
    },
    "language_info": {
      "name": "python"
    }
  },
  "nbformat": 4,
  "nbformat_minor": 0
}
